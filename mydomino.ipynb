{
 "cells": [
  {
   "cell_type": "code",
   "execution_count": 8,
   "metadata": {
    "collapsed": true
   },
   "outputs": [],
   "source": [
    "import random\n",
    "\n",
    "empty = None # An empty square\n",
    "\n",
    "class Board(dict):\n",
    "    \"A mapping from location to name.\"\n",
    "    def __init__(self, width, height): self.width, self.height = width, height\n",
    "    def __missing__(self, loc): return empty\n",
    "\n",
    "def dominoes(tiles, width=16, height=24):\n",
    "    \"Place as many tiles on board as possible (legally and randomly).\"\n",
    "    tiles    = shuffle(list(tiles))\n",
    "    board    = Board(width, height)\n",
    "    frontier = set()\n",
    "    m        = min(width, height) // 2\n",
    "    put_tile(board, (m, m), (m, m + 1), tiles.pop(), frontier) # Place first tile\n",
    "    while tiles and frontier:\n",
    "        try_one(tiles, board, frontier)\n",
    "    return board\n",
    "          \n",
    "def try_one(tiles, board, frontier):\n",
    "    \"Pop a frontier location, and try to place a tile on that location.\"\n",
    "    loc0 = frontier.pop()\n",
    "    for tile in shuffle(tiles):\n",
    "        for (name0, name1) in [tile, tile[::-1]]:\n",
    "            if legal(name0, loc0, board):\n",
    "                for loc1 in shuffle(neighbors(loc0, board)):\n",
    "                    if legal(name1, loc1, board):\n",
    "                        put_tile(board, loc0, loc1, (name0, name1), frontier)\n",
    "                        tiles.remove(tile)\n",
    "                        return tile\n",
    "                        \n",
    "def legal(name, loc, board):\n",
    "    \"Is it legal to place this name on this location on board?\"\n",
    "    return (board[loc] is empty and\n",
    "            all(board[nbr] is empty or board[nbr] == name\n",
    "                for nbr in neighbors(loc, board)))\n",
    "\n",
    "def neighbors(loc, board):\n",
    "    \"Neighbors of this location on the board.\"\n",
    "    x, y = loc\n",
    "    return [(x+dx, y+dy) for (dx, dy) in ((0, 1), (1, 0), (0, -1), (-1, 0))\n",
    "            if 0 <= x+dx < board.width and 0 <= y+dy < board.height]\n",
    "\n",
    "def put_tile(board, loc0, loc1, tile, frontier): \n",
    "    \"Place the tile across the two locations, and update frontier.\"\n",
    "    board[loc0], board[loc1] = tile\n",
    "    frontier -= {loc0, loc1}\n",
    "    frontier |= {loc for loc in neighbors(loc0, board) + neighbors(loc1, board)\n",
    "                 if board[loc] is empty}\n",
    "                            \n",
    "def shuffle(items): random.shuffle(items); return items"
   ]
  },
  {
   "cell_type": "code",
   "execution_count": 4,
   "metadata": {},
   "outputs": [
    {
     "data": {
      "text/plain": [
       "{(3, 3): 'KE',\n (3, 4): 'JO',\n (3, 2): 'KE',\n (2, 2): 'JA',\n (4, 4): 'JO',\n (4, 5): 'GR',\n (3, 1): 'KE',\n (4, 1): 'GR',\n (1, 2): 'JA',\n (1, 1): 'RY',\n (1, 3): 'JA',\n (0, 3): 'BO',\n (3, 0): 'KE',\n (2, 0): 'RY',\n (1, 4): 'JA',\n (1, 5): 'PO'}"
      ]
     },
     "execution_count": 4,
     "metadata": {},
     "output_type": "execute_result"
    }
   ],
   "source": [
    "tiles8 = [('BO', 'JA'), ('JA', 'PO'), ('JA', 'RY'), ('RY', 'KE'), \n",
    "          ('GR', 'KE'), ('GR', 'JO'), ('JA', 'KE'), ('KE', 'JO')]\n",
    "\n",
    "dominoes(tiles8, 6, 6)"
   ]
  },
  {
   "cell_type": "code",
   "execution_count": 9,
   "metadata": {},
   "outputs": [],
   "source": [
    "\n",
    "import matplotlib.pyplot as plt\n",
    "%matplotlib inline\n",
    "\n",
    "\n",
    "ϵ = 0.06 # A small amount; the space between adjacent lines\n",
    "\n",
    "class Board(dict):\n",
    "    \"A mapping from location to name.\"\n",
    "    def __init__(self, width=16, height=24): \n",
    "        self.width, self.height, self.boxes = width, height, []\n",
    "    def __missing__(self, loc): return empty\n",
    "    \n",
    "def plot_board(board):\n",
    "    \"Plot the box and name for every tile, plus a big box around the board.\"\n",
    "    plt.figure(figsize=(board.width, board.height))\n",
    "    plt.subplots_adjust(left=ϵ, right=1-ϵ, top=1-ϵ, bottom=ϵ)\n",
    "    plt.axis('off')  \n",
    "    plt.axis('equal')\n",
    "    for box in board.boxes:\n",
    "        plot_box(box)\n",
    "    plot_box([(-2*ϵ, -2*ϵ), (board.width - 1 + 2*ϵ, board.height - 1 + 2*ϵ)])\n",
    "    for (x, y) in board:\n",
    "        plt.text(x + 0.5, y + 0.5, board[x, y], \n",
    "                 va='center', ha='center', fontsize=8)\n",
    "\n",
    "def plot_box(box):\n",
    "    \"Plot a box, which is a [loc0, loc1] pair.\"\n",
    "    Xs, Ys = {loc[0] for loc in box}, {loc[1] for loc in box}\n",
    "    x0, x1 = min(Xs), max(Xs) + 1 - ϵ\n",
    "    y0, y1 = min(Ys), max(Ys) + 1 - ϵ\n",
    "    plt.plot([x0, x1, x1, x0, x0], \n",
    "             [y0, y0, y1, y1, y0], 'k-')\n",
    "\n",
    "def put_tile(board, loc0, loc1, tile, frontier): \n",
    "    \"Place the tile across the two locations, and update frontier and boxes.\"\n",
    "    board[loc0], board[loc1] = tile\n",
    "    frontier -= {loc0, loc1}\n",
    "    frontier |= {loc for loc in neighbors(loc0, board) + neighbors(loc1, board)\n",
    "                 if board[loc] is empty}\n",
    "    board.boxes.append([loc0, loc1])"
   ]
  },
  {
   "cell_type": "code",
   "execution_count": 10,
   "metadata": {},
   "outputs": [
    {
     "data": {
      "image/png": "[encoded data removed]",
      "text/plain": [
       "<Figure size 432x432 with 1 Axes>"
      ]
     },
     "metadata": {},
     "output_type": "display_data"
    }
   ],
   "source": [
    "plot_board(dominoes(tiles8, 6, 6))"
   ]
  },
  {
   "cell_type": "code",
   "execution_count": null,
   "metadata": {},
   "outputs": [],
   "source": []
  },
  {
   "cell_type": "code",
   "execution_count": null,
   "metadata": {},
   "outputs": [],
   "source": []
  },
  {
   "cell_type": "code",
   "execution_count": null,
   "metadata": {},
   "outputs": [],
   "source": []
  },
  {
   "cell_type": "code",
   "execution_count": null,
   "metadata": {},
   "outputs": [],
   "source": []
  },
  {
   "cell_type": "code",
   "execution_count": null,
   "metadata": {},
   "outputs": [],
   "source": []
  },
  {
   "cell_type": "code",
   "execution_count": null,
   "metadata": {},
   "outputs": [],
   "source": []
  },
  {
   "cell_type": "code",
   "execution_count": null,
   "metadata": {},
   "outputs": [],
   "source": []
  },
  {
   "cell_type": "code",
   "execution_count": null,
   "metadata": {},
   "outputs": [],
   "source": []
  },
  {
   "cell_type": "code",
   "execution_count": null,
   "metadata": {},
   "outputs": [],
   "source": []
  },
  {
   "cell_type": "code",
   "execution_count": null,
   "metadata": {},
   "outputs": [],
   "source": []
  }
 ],
 "metadata": {
  "kernelspec": {
   "display_name": "Python 2",
   "language": "python",
   "name": "python2"
  },
  "language_info": {
   "codemirror_mode": {
    "name": "ipython",
    "version": 2
   },
   "file_extension": ".py",
   "mimetype": "text/x-python",
   "name": "python",
   "nbconvert_exporter": "python",
   "pygments_lexer": "ipython2",
   "version": "2.7.6"
  }
 },
 "nbformat": 4,
 "nbformat_minor": 0
}
